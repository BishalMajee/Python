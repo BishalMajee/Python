{
 "cells": [
  {
   "cell_type": "markdown",
   "id": "3159e4e9",
   "metadata": {},
   "source": [
    "# Questions - 1"
   ]
  },
  {
   "cell_type": "code",
   "execution_count": 1,
   "id": "4f7e3d4d",
   "metadata": {},
   "outputs": [
    {
     "name": "stdout",
     "output_type": "stream",
     "text": [
      "[1 2 3 4 5]\n"
     ]
    }
   ],
   "source": [
    "\n",
    "import numpy as np\n",
    "list= [1,2,3,4,5]\n",
    "arr_list= np.array(list)\n",
    "print(arr_list)"
   ]
  },
  {
   "cell_type": "markdown",
   "id": "c765eff8",
   "metadata": {},
   "source": [
    "# Questions - 2"
   ]
  },
  {
   "cell_type": "code",
   "execution_count": 8,
   "id": "04541c07",
   "metadata": {},
   "outputs": [
    {
     "name": "stdout",
     "output_type": "stream",
     "text": [
      "Array: [1 2 3 4 5]\n"
     ]
    }
   ],
   "source": [
    "import numpy as np\n",
    "list= [1,2,3,4,5]\n",
    "arr_list = np.array(list)\n",
    "print(\"Array:\",arr_list)\n"
   ]
  },
  {
   "cell_type": "code",
   "execution_count": 12,
   "id": "b36cd819",
   "metadata": {},
   "outputs": [
    {
     "name": "stdout",
     "output_type": "stream",
     "text": [
      "First index: 1\n",
      "Last index: 5\n"
     ]
    }
   ],
   "source": [
    "print(\"First index:\",arr_list[0])\n",
    "print(\"Last index:\",arr_list[-1])"
   ]
  },
  {
   "cell_type": "code",
   "execution_count": 14,
   "id": "ab493110",
   "metadata": {},
   "outputs": [
    {
     "name": "stdout",
     "output_type": "stream",
     "text": [
      "[ 2  4  6  8 10]\n"
     ]
    }
   ],
   "source": [
    "multiply_arr= arr_list * 2 \n",
    "print(multiply_arr)"
   ]
  },
  {
   "cell_type": "code",
   "execution_count": null,
   "id": "b5f74288",
   "metadata": {},
   "outputs": [],
   "source": []
  }
 ],
 "metadata": {
  "kernelspec": {
   "display_name": "Python 3 (ipykernel)",
   "language": "python",
   "name": "python3"
  },
  "language_info": {
   "codemirror_mode": {
    "name": "ipython",
    "version": 3
   },
   "file_extension": ".py",
   "mimetype": "text/x-python",
   "name": "python",
   "nbconvert_exporter": "python",
   "pygments_lexer": "ipython3",
   "version": "3.11.5"
  }
 },
 "nbformat": 4,
 "nbformat_minor": 5
}
