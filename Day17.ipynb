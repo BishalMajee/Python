{
 "cells": [
  {
   "cell_type": "markdown",
   "id": "2df193ea",
   "metadata": {},
   "source": [
    "# Question -1\n",
    "1. Write a NumPy program to create an array of 10 zeros, 10 ones, and 10 fives."
   ]
  },
  {
   "cell_type": "code",
   "execution_count": 5,
   "id": "3625e9cf",
   "metadata": {},
   "outputs": [
    {
     "name": "stdout",
     "output_type": "stream",
     "text": [
      "[0 0 0 0 0 0 0 0 0 0 1 1 1 1 1 1 1 1 1 1 5 5 5 5 5 5 5 5 5 5]\n"
     ]
    }
   ],
   "source": [
    "import numpy as np\n",
    "zeros = np.zeros(10, dtype = int)\n",
    "ones = np.ones(10, dtype = int)\n",
    "fives = np.full(10, 5, dtype=int)\n",
    "result = np.concatenate((zeros,ones,fives))\n",
    "print(result)"
   ]
  },
  {
   "cell_type": "markdown",
   "id": "72fcfb7e",
   "metadata": {},
   "source": [
    "# Question - 2\n",
    " Write a NumPy program to create a 3x3 matrix with values ranging from 2 to 10."
   ]
  },
  {
   "cell_type": "code",
   "execution_count": 1,
   "id": "8875d450",
   "metadata": {},
   "outputs": [
    {
     "name": "stdout",
     "output_type": "stream",
     "text": [
      "3x3 Matrix with values from 2 to 10:\n",
      "[[ 2  3  4]\n",
      " [ 5  6  7]\n",
      " [ 8  9 10]]\n"
     ]
    }
   ],
   "source": [
    "import numpy as np\n",
    "\n",
    "# Generate values from 2 to 10 (inclusive) and reshape into a 3x3 matrix\n",
    "values = np.arange(2, 11).reshape(3, 3)\n",
    "\n",
    "print(\"3x3 Matrix with values from 2 to 10:\")\n",
    "print(values)"
   ]
  },
  {
   "cell_type": "markdown",
   "id": "2225e541",
   "metadata": {},
   "source": [
    "# Question - 3"
   ]
  },
  {
   "cell_type": "code",
   "execution_count": 2,
   "id": "84a50093",
   "metadata": {},
   "outputs": [
    {
     "name": "stdout",
     "output_type": "stream",
     "text": [
      "Array with values from 12 to 38:\n",
      "[12 13 14 15 16 17 18 19 20 21 22 23 24 25 26 27 28 29 30 31 32 33 34 35\n",
      " 36 37 38]\n"
     ]
    }
   ],
   "source": [
    "import numpy as np\n",
    "\n",
    "# Generate an array with values from 12 to 38 (inclusive)\n",
    "array = np.arange(12, 39)\n",
    "\n",
    "print(\"Array with values from 12 to 38:\")\n",
    "print(array)\n"
   ]
  },
  {
   "cell_type": "code",
   "execution_count": null,
   "id": "2fda9637",
   "metadata": {},
   "outputs": [],
   "source": []
  },
  {
   "cell_type": "code",
   "execution_count": 3,
   "id": "73209024",
   "metadata": {},
   "outputs": [
    {
     "name": "stdout",
     "output_type": "stream",
     "text": [
      "Array from list:\n",
      "[1 2 3 4 5 6 7 8]\n",
      "\n",
      "Array from tuple:\n",
      "[[8 4 6]\n",
      " [1 2 3]]\n"
     ]
    }
   ],
   "source": [
    "import numpy as np\n",
    "\n",
    "# Define the list and tuple\n",
    "my_list = [1, 2, 3, 4, 5, 6, 7, 8]\n",
    "my_tuple = ([8, 4, 6], [1, 2, 3])\n",
    "\n",
    "# Convert the list and tuple into NumPy arrays\n",
    "array_from_list = np.array(my_list)\n",
    "array_from_tuple = np.array(my_tuple)\n",
    "\n",
    "print(\"Array from list:\")\n",
    "print(array_from_list)\n",
    "\n",
    "print(\"\\nArray from tuple:\")\n",
    "print(array_from_tuple)\n"
   ]
  },
  {
   "cell_type": "code",
   "execution_count": null,
   "id": "b26f4b8d",
   "metadata": {},
   "outputs": [],
   "source": []
  }
 ],
 "metadata": {
  "kernelspec": {
   "display_name": "Python 3 (ipykernel)",
   "language": "python",
   "name": "python3"
  },
  "language_info": {
   "codemirror_mode": {
    "name": "ipython",
    "version": 3
   },
   "file_extension": ".py",
   "mimetype": "text/x-python",
   "name": "python",
   "nbconvert_exporter": "python",
   "pygments_lexer": "ipython3",
   "version": "3.11.5"
  }
 },
 "nbformat": 4,
 "nbformat_minor": 5
}
